{
 "cells": [
  {
   "cell_type": "markdown",
   "id": "29807ec8",
   "metadata": {},
   "source": [
    "# Data Science Tools and Ecosystem "
   ]
  },
  {
   "cell_type": "markdown",
   "id": "43d49536",
   "metadata": {},
   "source": [
    "## In this notebook, Data Science Tools and Ecosystem are summarized."
   ]
  },
  {
   "cell_type": "markdown",
   "id": "6048bcac",
   "metadata": {},
   "source": [
    "# __Objectives:__\n",
    "- Popular Languages for Data Science\n",
    "- Commonly used libraries used in Data Science\n",
    "- Data Science Tools"
   ]
  },
  {
   "cell_type": "markdown",
   "id": "658ced1d",
   "metadata": {},
   "source": [
    "## Some of the popular languages that Data Scientist use are:\n",
    "1. Python\n",
    "1. R\n",
    "1. SQL\n",
    "1. C++"
   ]
  },
  {
   "cell_type": "markdown",
   "id": "4e1c509f",
   "metadata": {},
   "source": [
    "## Some of the commonly used libraries used by Data Scientists include:\n",
    "1. NumPy\n",
    "1. Pandas\n",
    "1. SciPy"
   ]
  },
  {
   "cell_type": "markdown",
   "id": "308a3d7a",
   "metadata": {},
   "source": [
    " ## Data Science Tools: \n",
    " 1. Jupyter Notebook\n",
    " 1. R Studio\n",
    " 1. Tableau"
   ]
  },
  {
   "cell_type": "markdown",
   "id": "29a8a738",
   "metadata": {},
   "source": [
    "### Below are a few examples of evaluating arithmetic expressions in Python:"
   ]
  },
  {
   "cell_type": "code",
   "execution_count": 9,
   "id": "533aa0c2",
   "metadata": {},
   "outputs": [
    {
     "data": {
      "text/plain": [
       "17"
      ]
     },
     "execution_count": 9,
     "metadata": {},
     "output_type": "execute_result"
    }
   ],
   "source": [
    "#This a simple arithmetic expression to mutiply then add integers\n",
    "(3*4)+5"
   ]
  },
  {
   "cell_type": "code",
   "execution_count": 10,
   "id": "3e43da78",
   "metadata": {},
   "outputs": [
    {
     "data": {
      "text/plain": [
       "3.3333333333333335"
      ]
     },
     "execution_count": 10,
     "metadata": {},
     "output_type": "execute_result"
    }
   ],
   "source": [
    "#This will convert 200 minutes to hours by diving by 60\n",
    "200/60"
   ]
  },
  {
   "cell_type": "markdown",
   "id": "40fd8eba",
   "metadata": {},
   "source": [
    "## Author\n",
    "Noah LoCascio"
   ]
  },
  {
   "cell_type": "code",
   "execution_count": null,
   "id": "93b794f7",
   "metadata": {},
   "outputs": [],
   "source": []
  }
 ],
 "metadata": {
  "kernelspec": {
   "display_name": "Python 3 (ipykernel)",
   "language": "python",
   "name": "python3"
  },
  "language_info": {
   "codemirror_mode": {
    "name": "ipython",
    "version": 3
   },
   "file_extension": ".py",
   "mimetype": "text/x-python",
   "name": "python",
   "nbconvert_exporter": "python",
   "pygments_lexer": "ipython3",
   "version": "3.11.5"
  }
 },
 "nbformat": 4,
 "nbformat_minor": 5
}
